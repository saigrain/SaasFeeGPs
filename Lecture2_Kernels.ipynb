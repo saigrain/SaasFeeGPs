{
 "cells": [
  {
   "cell_type": "code",
   "execution_count": 29,
   "metadata": {
    "hideCode": false,
    "hidePrompt": false,
    "slideshow": {
     "slide_type": "skip"
    }
   },
   "outputs": [
    {
     "name": "stdout",
     "output_type": "stream",
     "text": [
      "The autoreload extension is already loaded. To reload it, use:\n",
      "  %reload_ext autoreload\n"
     ]
    }
   ],
   "source": [
    "%matplotlib inline\n",
    "%load_ext autoreload\n",
    "%autoreload 2"
   ]
  },
  {
   "cell_type": "code",
   "execution_count": 30,
   "metadata": {
    "hideCode": false,
    "hidePrompt": false,
    "slideshow": {
     "slide_type": "skip"
    }
   },
   "outputs": [],
   "source": [
    "import matplotlib.pyplot as pl\n",
    "import numpy as np\n",
    "import ipywidgets as widgets\n",
    "from ipywidgets import interact,fixed\n",
    "import utils"
   ]
  },
  {
   "cell_type": "markdown",
   "metadata": {
    "hideCode": false,
    "hidePrompt": false,
    "slideshow": {
     "slide_type": "slide"
    }
   },
   "source": [
    "# Gaussian process regression \n",
    "\n",
    "## Lecture 2: Covariance functions and model selection\n",
    "\n",
    "### Suzanne Aigrain, University of Oxford\n",
    "\n",
    "#### Saas Fee School 2020: Astronomy in the Era of Big Data"
   ]
  },
  {
   "cell_type": "markdown",
   "metadata": {
    "slideshow": {
     "slide_type": "slide"
    }
   },
   "source": [
    "## Covariance functions\n",
    "\n",
    "The only requirement for the covariance function is that it should return a ***positive semi-definite*** covariance matrix.\n",
    "\n",
    "The simplest covariance functions have two parameters: one input and one output variance (or scale). The form of the covariance function controls the degree of smoothness."
   ]
  },
  {
   "cell_type": "markdown",
   "metadata": {
    "hideCode": false,
    "hidePrompt": false,
    "slideshow": {
     "slide_type": "subslide"
    }
   },
   "source": [
    "### The squared exponential\n",
    "\n",
    "The simplest, most widely used kernel is the Squared Exponential (SE):\n",
    "$$\n",
    "k_{\\rm SE}(x,x') = A \\exp \\left[ - \\Gamma (x-x')^2 \\right].\n",
    "$$\n",
    "This gives rise to *smooth* functions with output variance $A$ and input variance $\\Gamma$. The SE kernel is also sometimes defined as:\n",
    "$$\n",
    "k_{\\rm SE}(x,x') = A \\exp \\left[ - \\frac{(x-x')^2}{2l^2} \\right].\n",
    "$$\n",
    "where $l = (2 \\Gamma)^{-1/2}$ is the characteristic input scale (or length scale)."
   ]
  },
  {
   "cell_type": "code",
   "execution_count": 41,
   "metadata": {
    "hideCode": false,
    "hidePrompt": false,
    "hide_input": true,
    "slideshow": {
     "slide_type": "subslide"
    }
   },
   "outputs": [
    {
     "data": {
      "application/vnd.jupyter.widget-view+json": {
       "model_id": "c782b68c05e2429ea3a80ea6873012e1",
       "version_major": 2,
       "version_minor": 0
      },
      "text/plain": [
       "interactive(children=(FloatSlider(value=0.0, description='$\\\\log_{10} A$', max=1.0, min=-1.0, step=0.5), Float…"
      ]
     },
     "metadata": {},
     "output_type": "display_data"
    }
   ],
   "source": [
    "interact(utils.pltsamples, kernel=fixed('SE'),\n",
    "         par1 = widgets.FloatSlider(min=-1,max=1,step=0.5,description=r'$\\log_{10} A$',value=0),\n",
    "         par2 = widgets.FloatSlider(min=-1,max=1,step=0.5,description=r'$\\log_{10} \\Gamma$',value=0),\n",
    "         wn = widgets.FloatSlider(min=-2,max=0,step=1,description=r'$\\log_{10} \\sigma$',value=-2),\n",
    "         par3 = fixed(0.0), \n",
    "         par4 = fixed(0.0)\n",
    "        );"
   ]
  },
  {
   "cell_type": "markdown",
   "metadata": {
    "hide_input": true,
    "slideshow": {
     "slide_type": "subslide"
    }
   },
   "source": [
    "### The Matern family\n",
    "\n",
    "The Matern 3/2 kernel\n",
    "$$\n",
    "k_{3/2}(x,x')= A \\left( 1 + \\frac{\\sqrt{3}r}{l} \\right) \\exp \\left( - \\frac{\\sqrt{3}r}{l} \\right),\n",
    "$$\n",
    "where $r =|x-x'|$."
   ]
  },
  {
   "cell_type": "markdown",
   "metadata": {
    "hide_input": false,
    "slideshow": {
     "slide_type": "fragment"
    }
   },
   "source": [
    "It produces somewhat rougher behaviour, because it is only differentiable once w.r.t. $r$ (whereas the SE kernel is infinitely differentiable). \n",
    "\n",
    "There is a whole family of Matern kernels, with varying degrees of roughness. "
   ]
  },
  {
   "cell_type": "code",
   "execution_count": 42,
   "metadata": {
    "hideCode": false,
    "hidePrompt": false,
    "hide_input": true,
    "slideshow": {
     "slide_type": "subslide"
    }
   },
   "outputs": [
    {
     "data": {
      "application/vnd.jupyter.widget-view+json": {
       "model_id": "4a7782d1c94a48199331b527359ca6a1",
       "version_major": 2,
       "version_minor": 0
      },
      "text/plain": [
       "interactive(children=(RadioButtons(description='kernel', options=('SE', 'M32'), value='SE'), Output()), _dom_c…"
      ]
     },
     "metadata": {},
     "output_type": "display_data"
    }
   ],
   "source": [
    "interact(utils.pltsamples, \n",
    "         kernel = widgets.RadioButtons(options=['SE','M32'], value='SE',description='kernel'),\n",
    "         par1 = fixed(0.0),\n",
    "         par2 = fixed(0.0),\n",
    "         wn = fixed(-2.0),\n",
    "         par3 = fixed(0.0), \n",
    "         par4 = fixed(0.0)\n",
    "        );"
   ]
  },
  {
   "cell_type": "markdown",
   "metadata": {
    "slideshow": {
     "slide_type": "subslide"
    }
   },
   "source": [
    "## The rational quadratic kernel \n",
    "\n",
    "is equivalent to a squared exponential with a powerlaw distribution of input scales\n",
    "$$\n",
    "k_{\\rm RQ}(x,x') = A^2 \\left(1 + \\frac{r^2}{2 \\alpha l} \\right)^{-\\alpha},\n",
    "$$\n",
    "where $\\alpha$ is the index of the power law. \n",
    "\n",
    "This is useful to model data containing variations on a range of timescales with just one extra parameter."
   ]
  },
  {
   "cell_type": "code",
   "execution_count": 43,
   "metadata": {
    "hideCode": false,
    "hidePrompt": false,
    "hide_input": true,
    "slideshow": {
     "slide_type": "subslide"
    }
   },
   "outputs": [
    {
     "data": {
      "application/vnd.jupyter.widget-view+json": {
       "model_id": "6b6be0d987b74428bbfe8de7b9253ae8",
       "version_major": 2,
       "version_minor": 0
      },
      "text/plain": [
       "interactive(children=(FloatSlider(value=1.0, description='$\\\\ln\\\\alpha$', max=1.0, min=-1.0, step=0.5), Output…"
      ]
     },
     "metadata": {},
     "output_type": "display_data"
    }
   ],
   "source": [
    "interact(utils.pltsamples, \n",
    "         kernel = fixed('RQ'),\n",
    "         par1 = fixed(0.0), \n",
    "         par2 = fixed(0.0),\n",
    "         wn = fixed(-2.0),\n",
    "         par3 = widgets.FloatSlider(min=-1,max=1,step=0.5,description=r'$\\ln\\alpha$',value=1), \n",
    "         par4 = fixed(0.0)\n",
    "        );"
   ]
  },
  {
   "cell_type": "markdown",
   "metadata": {
    "hide_input": true,
    "slideshow": {
     "slide_type": "subslide"
    }
   },
   "source": [
    "## Periodic kernels...\n",
    "\n",
    "...can be constructed by replacing $r$ in any of the above by a periodic function of $r$. For example, the cosine kernel:\n",
    "$$\n",
    "k_{\\cos}(x,x') = A \\cos\\left(\\frac{2\\pi r}{P}\\right),\n",
    "$$\n",
    "[which follows the dynamics of a simple harmonic oscillator], or..."
   ]
  },
  {
   "cell_type": "markdown",
   "metadata": {
    "hideCode": false,
    "hidePrompt": false,
    "slideshow": {
     "slide_type": "fragment"
    }
   },
   "source": [
    "...the \"exponential sine squared\" kernel:\n",
    "$$\n",
    "k_{\\sin^2 {\\rm SE}}(x,x') = A \\exp \\left[ -\\Gamma \\sin^2\\left(\\frac{\\pi r}{P}\\right) \\right],\n",
    "$$\n",
    "which allows for non-harmonic functions. The parameter $\\Gamma$ controls the complexity of the periodic signal.  "
   ]
  },
  {
   "cell_type": "code",
   "execution_count": 45,
   "metadata": {
    "hideCode": false,
    "hidePrompt": false,
    "hide_input": true,
    "slideshow": {
     "slide_type": "subslide"
    }
   },
   "outputs": [
    {
     "data": {
      "application/vnd.jupyter.widget-view+json": {
       "model_id": "0b506ba3d87a410cbb964f4adef49269",
       "version_major": 2,
       "version_minor": 0
      },
      "text/plain": [
       "interactive(children=(FloatSlider(value=0.0, description='$\\\\log_{10} \\\\Gamma$', max=1.0, min=-1.0, step=0.5),…"
      ]
     },
     "metadata": {},
     "output_type": "display_data"
    }
   ],
   "source": [
    "interact(utils.pltsamples, \n",
    "         kernel = fixed('Per'),\n",
    "         par1 = fixed(0.0), \n",
    "         par2 = widgets.FloatSlider(min=-1,max=1,step=0.5,description=r'$\\log_{10} \\Gamma$',value=0),\n",
    "         wn = fixed(-2.0),\n",
    "         par3 = widgets.FloatSlider(min=1,max=5,step=1,description=r'$P$',value=3), \n",
    "         par4 = fixed(0.0)\n",
    "        );"
   ]
  },
  {
   "cell_type": "markdown",
   "metadata": {
    "slideshow": {
     "slide_type": "fragment"
    }
   },
   "source": [
    "Note the strong correlation between $\\Gamma$ and the amplitude of the variations, even though $A$ is fixed here. "
   ]
  },
  {
   "cell_type": "markdown",
   "metadata": {
    "slideshow": {
     "slide_type": "fragment"
    }
   },
   "source": [
    "This kernel is obtained by mapping the 1-D variable $x$ to the 2-D variable $\\mathbf{u}(x)=(\\cos(x),\\sin(x))$, and then applying a squared exponential in $\\mathbf{u}$-space."
   ]
  },
  {
   "cell_type": "markdown",
   "metadata": {
    "slideshow": {
     "slide_type": "subslide"
    }
   },
   "source": [
    "## Combining kernels\n",
    "\n",
    "Any ***affine tranformation***, sum or product of valid kernels is a valid kernel.\n",
    "\n",
    "Affine transformations include translation, scaling, shear mapping, rotation, reflection, and any combination thereof. Any affine transformation can be written as the composition of a linear transformation and a translation."
   ]
  },
  {
   "cell_type": "markdown",
   "metadata": {
    "collapsed": true,
    "slideshow": {
     "slide_type": "fragment"
    }
   },
   "source": [
    "For example, a quasi-periodic kernel can be constructed by multiplying a periodic kernel with a non-periodic one. The following is frequently used to model stellar light curves:\n",
    "$$\n",
    "k_{\\mathrm{QP}}(x,x') = A \\exp \\left[  -\\Gamma_1 \\sin^2\\left(\\frac{\\pi r}{P}\\right)   -\\Gamma_2 r^2 \\right].\n",
    "$$"
   ]
  },
  {
   "cell_type": "code",
   "execution_count": 46,
   "metadata": {
    "hideCode": false,
    "hidePrompt": false,
    "hide_input": true,
    "slideshow": {
     "slide_type": "subslide"
    }
   },
   "outputs": [
    {
     "data": {
      "application/vnd.jupyter.widget-view+json": {
       "model_id": "8a4180c2154747aca0753e7e4e645733",
       "version_major": 2,
       "version_minor": 0
      },
      "text/plain": [
       "interactive(children=(FloatSlider(value=3.0, description='$P$', max=5.0, min=1.0, step=1.0), FloatSlider(value…"
      ]
     },
     "metadata": {},
     "output_type": "display_data"
    }
   ],
   "source": [
    "interact(utils.pltsamples, \n",
    "         kernel = fixed('QP'),\n",
    "         par1 = fixed(0.0), \n",
    "         par2 = fixed(0.0),\n",
    "         wn = fixed(-2.0),\n",
    "         par3 = widgets.FloatSlider(min=1,max=5,step=1,description=r'$P$',value=3), \n",
    "         par4 = widgets.FloatSlider(min=-3,max=0,step=1,description=r'$\\log_{10} \\Gamma_2$',value=-3)\n",
    "        );"
   ]
  },
  {
   "cell_type": "markdown",
   "metadata": {
    "slideshow": {
     "slide_type": "slide"
    }
   },
   "source": [
    "## Additive GPs\n",
    "\n",
    "Recall from the previous lecture the mean and variance of the predictive distribution for a GP trained on noisy data:\n",
    "\n",
    "$$\n",
    "\\begin{array}{lll}\n",
    "\\overline{y_*} & = &  \\mathbf{k}_*^{\\rm T} \\, (\\mathbf{K} + \\sigma^2 \\mathbb{I})^{-1} \\, \\mathbf{y}, \\\\\n",
    "\\mathbb{V}[y_*] & = & k(x_*,x_*) - \\mathbf{k}_*^{\\rm T} \\, (\\mathbf{K} + \\sigma^2 \\mathbb{I})^{-1} \\, \\mathbf{k}_*,\n",
    "\\end{array}\n",
    "$$"
   ]
  },
  {
   "cell_type": "markdown",
   "metadata": {
    "slideshow": {
     "slide_type": "fragment"
    }
   },
   "source": [
    "This enables us to make \"noise free\" predictions from noisy observations. "
   ]
  },
  {
   "cell_type": "markdown",
   "metadata": {
    "slideshow": {
     "slide_type": "fragment"
    }
   },
   "source": [
    "Here our model for the training set was the sum of two GPs: one with covariance function $k$, and one with a purely diagonal covariance function representing white noise."
   ]
  },
  {
   "cell_type": "markdown",
   "metadata": {
    "slideshow": {
     "slide_type": "slide"
    }
   },
   "source": [
    "More generally, if $y^{(n)} \\sim \\mathcal{GP}(m^{(n)},k^{(n)})$ and $y=\\sum_n y^{(n)}$, then \n",
    "$y \\sim \\mathcal{GP}\\left(\\sum_n m^{(n)}, \\sum_n k^{(n)}\\right)$. "
   ]
  },
  {
   "cell_type": "markdown",
   "metadata": {
    "slideshow": {
     "slide_type": "subslide"
    }
   },
   "source": [
    "Given a set of observed $\\mathbf{y}$, the predictive distribution for a given compnent $y_n$ at some test input $x_*$ is a Gaussian with mean and variance:\n",
    "\n",
    "$$\n",
    "\\begin{array}{lll}\n",
    "\\overline{y_*^{(n)}} & = & \\left(\\mathbf{k}_*^{(n)}\\right)^{\\rm T} \\, \\mathbf{K}^{-1} \\, \\mathbf{y}, \\\\\n",
    "\\mathbb{V}[y_*^{(n)}] & = & k^{(n)}(x_*,x_*) - \\left(\\mathbf{k}^{(n)}_*\\right)^{\\rm T} \\, \\mathbf{K}^{-1} \\, \\mathbf{k}^{(n)}_*,\n",
    "\\end{array}\n",
    "$$\n",
    "where \n",
    "- $\\mathbf{K}$ is the covariance matrix for the full model evaluated at the training points: $K_{ij} = \\sum_n k^{(n)}(x_i,x_j)$;\n",
    "- $\\mathbf{k}^{(n)}_*$ is the vector of covariances between the test point and the training points, including only the $n^{\\rm th}$ term: $k^{(n)}_{*,i}=k^{(n)}(x_*,x_i)$. "
   ]
  },
  {
   "cell_type": "markdown",
   "metadata": {
    "hideCode": false,
    "hidePrompt": false,
    "slideshow": {
     "slide_type": "subslide"
    }
   },
   "source": [
    "## Example: Mauna Kea CO$_2$ dataset\n",
    "\n",
    "(From Rasmussen & Williams textbook)\n",
    "\n",
    "<img width=\"60%\" src=\"images/RW_mauna_kea.png\">"
   ]
  },
  {
   "cell_type": "markdown",
   "metadata": {
    "hideCode": false,
    "hidePrompt": false,
    "slideshow": {
     "slide_type": "subslide"
    }
   },
   "source": [
    "## Example: Mauna Kea CO$_2$ dataset\n",
    "\n",
    "(From Rasmussen & Williams textbook)\n",
    "\n",
    "<img width=\"80%\" src=\"images/RW_mauna_kea_2.png\">"
   ]
  },
  {
   "cell_type": "markdown",
   "metadata": {
    "slideshow": {
     "slide_type": "slide"
    }
   },
   "source": [
    "## Changepoints\n",
    "\n",
    "(From Roberts et al. 2013, Proceedings of the Royal Society A)\n",
    "\n",
    "<img width=\"1200\" src=\"images/changepoints.jpg\">"
   ]
  },
  {
   "cell_type": "markdown",
   "metadata": {
    "slideshow": {
     "slide_type": "slide"
    }
   },
   "source": [
    "# <font color=red>DONE TILL HERE</font>\n",
    "\n",
    "Need to insert K2SC example to illustrate change points"
   ]
  },
  {
   "cell_type": "markdown",
   "metadata": {
    "slideshow": {
     "slide_type": "slide"
    }
   },
   "source": [
    "## What if it's not Gaussian?\n",
    "\n",
    "Thanks to the central limit theorem, the assumption of Gaussianity is often approximately correct. But by no means always.\n",
    "\n",
    "Empirically, GPs often do an amazing job of explaning the data, even when they are not an appropriate model. This is a blessing and a curse."
   ]
  },
  {
   "cell_type": "markdown",
   "metadata": {
    "slideshow": {
     "slide_type": "subslide"
    }
   },
   "source": [
    "## What if it's not Gaussian?\n",
    "\n",
    "Student's t distributions have longer tails than Gaussians, and also have nice analytic conditioning and marginalisation identities, though mathematically more complicated.\n",
    "\n",
    "<img src = \"images/students-t.png\">"
   ]
  },
  {
   "cell_type": "markdown",
   "metadata": {
    "slideshow": {
     "slide_type": "slide"
    }
   },
   "source": [
    "### 2 or more dimensions\n",
    "\n",
    "So far we assumed the inputs were 1-D but that doesn't have to be the case. For example, the SE kernel can be extended to D dimensions..."
   ]
  },
  {
   "cell_type": "markdown",
   "metadata": {
    "slideshow": {
     "slide_type": "fragment"
    }
   },
   "source": [
    "using a single length scale, giving the *Radial Basis Function* (RBF) kernel:\n",
    "$$\n",
    "k_{\\rm RBF}(\\mathbf{x},\\mathbf{x'}) = A \\exp \\left[ - \\Gamma \\sum_{j=1}^{D}(x_j-x'_j)^2 \\right],\n",
    "$$\n",
    "where $\\mathbf{x}=(x_1,x_2,\\ldots, x_j,\\ldots,x_D)^{\\mathrm{T}}$ represents a single, multi-dimensional input."
   ]
  },
  {
   "cell_type": "markdown",
   "metadata": {
    "hideCode": false,
    "hidePrompt": false,
    "slideshow": {
     "slide_type": "fragment"
    }
   },
   "source": [
    "or using separate length scales for each dimension, giving the *Automatic Relevance Determination* (ARD) kernel:\n",
    "$$\n",
    "k_{\\rm ARD}(\\mathbf{x},\\mathbf{x'}) = A \\exp \\left[ - \\sum_{j=1}^{D} \\Gamma_j (x_j-x'_j)^2 \\right].\n",
    "$$"
   ]
  },
  {
   "cell_type": "code",
   "execution_count": 15,
   "metadata": {
    "slideshow": {
     "slide_type": "skip"
    }
   },
   "outputs": [],
   "source": [
    "import george\n",
    "x2d, y2d = np.mgrid[-3:3:0.1,-3:3:0.1]\n",
    "x = x2d.ravel()\n",
    "y = y2d.ravel()\n",
    "N = len(x)\n",
    "X = np.zeros((N,2))\n",
    "X[:,0] = x\n",
    "X[:,1] = y"
   ]
  },
  {
   "cell_type": "code",
   "execution_count": 16,
   "metadata": {
    "slideshow": {
     "slide_type": "skip"
    }
   },
   "outputs": [],
   "source": [
    "k1 = george.kernels.ExpSquaredKernel(1.0,ndim=2)\n",
    "s1 = george.GP(k1).sample(X).reshape(x2d.shape)"
   ]
  },
  {
   "cell_type": "code",
   "execution_count": 17,
   "metadata": {
    "hide_input": true,
    "slideshow": {
     "slide_type": "subslide"
    }
   },
   "outputs": [],
   "source": [
    "k2 = george.kernels.ExpSquaredKernel(1.0,ndim=2,axes=1) + george.kernels.ExpSquaredKernel(0.2,ndim=2,axes=0)\n",
    "s2 = george.GP(k2).sample(X).reshape(x2d.shape)"
   ]
  },
  {
   "cell_type": "code",
   "execution_count": 18,
   "metadata": {
    "hide_input": true
   },
   "outputs": [
    {
     "data": {
      "image/png": "[encoded data removed]",
      "text/plain": [
       "<Figure size 720x360 with 2 Axes>"
      ]
     },
     "metadata": {
      "needs_background": "light"
     },
     "output_type": "display_data"
    }
   ],
   "source": [
    "pl.figure(figsize=(10,5))\n",
    "pl.subplot(121)\n",
    "pl.contourf(x2d,y2d,s1)\n",
    "pl.xlim(x.min(),x.max())\n",
    "pl.ylim(y.min(),y.max())\n",
    "pl.xlabel(r'$x$')\n",
    "pl.ylabel(r'$y$')\n",
    "pl.title('RBF')\n",
    "pl.subplot(122)\n",
    "pl.contourf(x2d,y2d,s2)\n",
    "pl.xlim(x.min(),x.max())\n",
    "pl.ylim(y.min(),y.max())\n",
    "pl.xlabel(r'$x$')\n",
    "pl.title('ARD');"
   ]
  },
  {
   "cell_type": "code",
   "execution_count": null,
   "metadata": {
    "collapsed": true
   },
   "outputs": [],
   "source": []
  }
 ],
 "metadata": {
  "anaconda-cloud": {},
  "celltoolbar": "Slideshow",
  "hide_code_all_hidden": false,
  "kernelspec": {
   "display_name": "Python 3",
   "language": "python",
   "name": "python3"
  },
  "language_info": {
   "codemirror_mode": {
    "name": "ipython",
    "version": 3
   },
   "file_extension": ".py",
   "mimetype": "text/x-python",
   "name": "python",
   "nbconvert_exporter": "python",
   "pygments_lexer": "ipython3",
   "version": "3.7.3"
  },
  "nbpresent": {
   "slides": {},
   "themes": {
    "default": "a86bdae1-f5f8-41c8-8d03-33324866d981",
    "theme": {
     "72cad74a-f4c5-4868-a59f-a1b18bef32b2": {
      "backgrounds": {
       "backgroundColor": {
        "background-color": "backgroundColor",
        "id": "backgroundColor"
       }
      },
      "id": "72cad74a-f4c5-4868-a59f-a1b18bef32b2",
      "palette": {
       "backgroundColor": {
        "id": "backgroundColor",
        "rgb": [
         0,
         43,
         54
        ]
       },
       "headingColor": {
        "id": "headingColor",
        "rgb": [
         238,
         232,
         213
        ]
       },
       "linkColor": {
        "id": "linkColor",
        "rgb": [
         38,
         139,
         210
        ]
       },
       "mainColor": {
        "id": "mainColor",
        "rgb": [
         147,
         161,
         161
        ]
       }
      },
      "rules": {
       "a": {
        "color": "linkColor"
       },
       "h1": {
        "color": "headingColor",
        "font-family": "Oswald",
        "font-size": 7
       },
       "h2": {
        "color": "headingColor",
        "font-family": "Oswald",
        "font-size": 5
       },
       "h3": {
        "color": "headingColor",
        "font-family": "Oswald",
        "font-size": 3.75
       },
       "h4": {
        "color": "headingColor",
        "font-family": "Oswald",
        "font-size": 3
       },
       "h5": {
        "color": "headingColor",
        "font-family": "Oswald"
       },
       "h6": {
        "color": "headingColor",
        "font-family": "Oswald"
       },
       "h7": {
        "color": "headingColor",
        "font-family": "Oswald"
       },
       "li": {
        "color": "mainColor",
        "font-family": "Lato",
        "font-size": 5
       },
       "p": {
        "color": "mainColor",
        "font-family": "Lato",
        "font-size": 5
       }
      },
      "text-base": {
       "color": "mainColor",
       "font-family": "Lato",
       "font-size": 5
      }
     },
     "a86bdae1-f5f8-41c8-8d03-33324866d981": {
      "backgrounds": {
       "backgroundColor": {
        "background-color": "backgroundColor",
        "id": "backgroundColor"
       }
      },
      "id": "a86bdae1-f5f8-41c8-8d03-33324866d981",
      "palette": {
       "backgroundColor": {
        "id": "backgroundColor",
        "rgb": [
         247,
         251,
         252
        ]
       },
       "headingColor": {
        "id": "headingColor",
        "rgb": [
         51,
         51,
         51
        ]
       },
       "linkColor": {
        "id": "linkColor",
        "rgb": [
         59,
         117,
         158
        ]
       },
       "mainColor": {
        "id": "mainColor",
        "rgb": [
         51,
         51,
         51
        ]
       }
      },
      "rules": {
       "a": {
        "color": "linkColor"
       },
       "h1": {
        "color": "headingColor",
        "font-family": "Quicksand",
        "font-size": 7
       },
       "h2": {
        "color": "headingColor",
        "font-family": "Quicksand",
        "font-size": 5
       },
       "h3": {
        "color": "headingColor",
        "font-family": "Quicksand",
        "font-size": 3.75
       },
       "h4": {
        "color": "headingColor",
        "font-family": "Quicksand",
        "font-size": 3
       },
       "h5": {
        "color": "headingColor",
        "font-family": "Quicksand"
       },
       "h6": {
        "color": "headingColor",
        "font-family": "Quicksand"
       },
       "h7": {
        "color": "headingColor",
        "font-family": "Quicksand"
       },
       "li": {
        "color": "mainColor",
        "font-family": "Open Sans",
        "font-size": 5
       },
       "p": {
        "color": "mainColor",
        "font-family": "Open Sans",
        "font-size": 5
       }
      },
      "text-base": {
       "color": "mainColor",
       "font-family": "Open Sans",
       "font-size": 5
      }
     }
    }
   }
  }
 },
 "nbformat": 4,
 "nbformat_minor": 1
}
