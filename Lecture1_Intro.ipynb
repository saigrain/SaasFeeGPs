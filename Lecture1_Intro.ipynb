{
 "cells": [
  {
   "cell_type": "code",
   "execution_count": 2,
   "metadata": {
    "slideshow": {
     "slide_type": "skip"
    }
   },
   "outputs": [],
   "source": [
    "%matplotlib inline\n",
    "%load_ext autoreload\n",
    "%autoreload 2\n",
    "import matplotlib.pyplot as pl\n",
    "import numpy as np\n",
    "import ipywidgets as widgets\n",
    "from ipywidgets import interact\n",
    "import utils\n"
   ]
  },
  {
   "cell_type": "markdown",
   "metadata": {
    "hideCode": false,
    "hidePrompt": false,
    "slideshow": {
     "slide_type": "slide"
    }
   },
   "source": [
    "# Gaussian process regression \n",
    "\n",
    "## Lecture 1: Introduction & basics\n",
    "\n",
    "### Suzanne Aigrain, University of Oxford\n",
    "\n",
    "#### Saas Fee School 2020: Astronomy in the Era of Big Data"
   ]
  },
  {
   "cell_type": "markdown",
   "metadata": {
    "slideshow": {
     "slide_type": "subslide"
    }
   },
   "source": [
    "- Monday (1h): \n",
    "  - Introduction & basics of GP regression\n",
    "- Tuesday (1h): \n",
    "  - Exercises: basic GP regression in Python\n",
    "- Wednesday (1h): \n",
    "  - Covariance functions and model selection\n",
    "- Thursday (2h): \n",
    "  - Speeding up GP regression\n",
    "  - Exercises: using `george`\n",
    "- Friday (2h)\n",
    "  - Advanced examples\n",
    "  - Exercises: <font color=\"red\">TBC</font>"
   ]
  },
  {
   "cell_type": "markdown",
   "metadata": {
    "slideshow": {
     "slide_type": "slide"
    }
   },
   "source": [
    "In most data analysis we do, the individual observations were assumed to be independent of each other.\n",
    "\n",
    "$$\n",
    "\\mathcal{L} = \\prod_i \\mathcal{L}_i\n",
    "$$"
   ]
  },
  {
   "cell_type": "markdown",
   "metadata": {
    "slideshow": {
     "slide_type": "fragment"
    }
   },
   "source": [
    "This is almost **never** true in real life. If working with time-series data, it **cannot** be true (causation implies correlation)."
   ]
  },
  {
   "cell_type": "markdown",
   "metadata": {
    "slideshow": {
     "slide_type": "fragment"
    }
   },
   "source": [
    "So what do we do? Parametrise the the correlations between data points, and learn the parameters from the data."
   ]
  },
  {
   "cell_type": "markdown",
   "metadata": {
    "hideCode": false,
    "hidePrompt": false,
    "slideshow": {
     "slide_type": "slide"
    }
   },
   "source": [
    "## What are GPs?\n",
    "\n",
    "- flexible, robust probabilistic regression and classification tools. "
   ]
  },
  {
   "cell_type": "markdown",
   "metadata": {
    "hideCode": false,
    "hidePrompt": false,
    "slideshow": {
     "slide_type": "fragment"
    }
   },
   "source": [
    "- applied across a wide range of fields, from finance to zoology. "
   ]
  },
  {
   "cell_type": "markdown",
   "metadata": {
    "hideCode": false,
    "hidePrompt": false,
    "slideshow": {
     "slide_type": "fragment"
    }
   },
   "source": [
    "- useful for data containing non-trivial stochastic signals or noise."
   ]
  },
  {
   "cell_type": "markdown",
   "metadata": {
    "hideCode": false,
    "hidePrompt": false,
    "slideshow": {
     "slide_type": "fragment"
    }
   },
   "source": [
    "- particularly popular for time-series data"
   ]
  },
  {
   "cell_type": "markdown",
   "metadata": {
    "hideCode": false,
    "hidePrompt": false,
    "slideshow": {
     "slide_type": "fragment"
    }
   },
   "source": [
    "- increasingly popular in astronomy [mainly time-domain, but not just]."
   ]
  },
  {
   "cell_type": "markdown",
   "metadata": {
    "slideshow": {
     "slide_type": "subslide"
    }
   },
   "source": [
    "## Many things are equivalent to (specific kinds of) GPs\n",
    "\n",
    "- least-squares fitting (diagonal covariance)"
   ]
  },
  {
   "cell_type": "markdown",
   "metadata": {
    "slideshow": {
     "slide_type": "fragment"
    }
   },
   "source": [
    "- linear basis regression with *infinite* numbers of basis functions"
   ]
  },
  {
   "cell_type": "markdown",
   "metadata": {
    "slideshow": {
     "slide_type": "fragment"
    }
   },
   "source": [
    "- ARMA (AutoRegressive Moving Average) models "
   ]
  },
  {
   "cell_type": "markdown",
   "metadata": {
    "slideshow": {
     "slide_type": "fragment"
    }
   },
   "source": [
    "- Kalman Filters"
   ]
  },
  {
   "cell_type": "markdown",
   "metadata": {
    "slideshow": {
     "slide_type": "fragment"
    }
   },
   "source": [
    "- random forest"
   ]
  },
  {
   "cell_type": "markdown",
   "metadata": {
    "slideshow": {
     "slide_type": "fragment"
    }
   },
   "source": [
    "- ..."
   ]
  },
  {
   "cell_type": "markdown",
   "metadata": {
    "slideshow": {
     "slide_type": "subslide"
    }
   },
   "source": [
    "#### Spitzer exoplanet transits and eclipses (Evans et al. 2015)\n",
    "\n",
    "<img src=\"images/Evans_Spitzer.png\" width=\"800\">"
   ]
  },
  {
   "cell_type": "markdown",
   "metadata": {
    "slideshow": {
     "slide_type": "subslide"
    }
   },
   "source": [
    "#### GPz photometric redshifts (Almosallam, Jarvis & Roberts 2016)\n",
    "\n",
    "<img src=\"images/Almosallam_GPz.png\" width=\"600\">"
   ]
  },
  {
   "cell_type": "markdown",
   "metadata": {
    "slideshow": {
     "slide_type": "slide"
    }
   },
   "source": [
    "## Further reading\n",
    "\n",
    "- [*Gaussian Processes: a quick introduction*](https://arxiv.org/abs/1505.02965) by Mark Ebden, arXiv:1505.02965v2"
   ]
  },
  {
   "cell_type": "markdown",
   "metadata": {
    "slideshow": {
     "slide_type": "fragment"
    }
   },
   "source": [
    "- [*Gaussian Processes for Machine Learning*](http://www.gaussianprocess.org/gpml/) by C. E. Rasmussen & C. Williams, MIT Press, 2006. Associated `Matlab` package `GPML`."
   ]
  },
  {
   "cell_type": "markdown",
   "metadata": {
    "slideshow": {
     "slide_type": "fragment"
    }
   },
   "source": [
    "- [*Pattern Recognition and Machine Learning*](https://www.springer.com/gp/book/9780387310732) by Christopher Bishop, Springer Verlag, 2006. "
   ]
  },
  {
   "cell_type": "markdown",
   "metadata": {
    "slideshow": {
     "slide_type": "slide"
    }
   },
   "source": [
    "##  Modelling data with white Gaussian noise\n",
    "\n",
    "Consider a dataset $\\mathcal{D}=\\{(x_i,y_i,\\sigma_i)\\}_{i=1,\\ldots,N}$, where $x_i$ is the $i^{\\rm th}$ ***input*** (independent variable, for example time), $y_i$ the corresponding ***output*** (depedent variable, or observable), and $\\sigma_i$ is the (known) measurement uncertainty associated with $y_i$."
   ]
  },
  {
   "cell_type": "markdown",
   "metadata": {
    "slideshow": {
     "slide_type": "fragment"
    }
   },
   "source": [
    "We model the observations as\n",
    "$$\n",
    "y_i = m(x_i,\\boldsymbol{\\theta}) + e_i,\n",
    "$$\n",
    "where $m$ is a ***model function*** with ***parameters*** $\\boldsymbol{\\theta}$, and $e_i$ is the measurement error on $y_i$."
   ]
  },
  {
   "cell_type": "markdown",
   "metadata": {
    "slideshow": {
     "slide_type": "fragment"
    }
   },
   "source": [
    "We assume that $e_i$ is drawn from a ***univariate Gaussian distribution*** with variance $\\sigma_i$, independently of the other $e$'s."
   ]
  },
  {
   "cell_type": "markdown",
   "metadata": {
    "slideshow": {
     "slide_type": "subslide"
    }
   },
   "source": [
    "We can then write the ***likelihood*** for the full dataset as the product of the likelihoods of the individual observations:\n",
    "$$\n",
    "\\mathcal{L} \\equiv p(\\mathbf{y}|m,\\boldsymbol{\\theta},\\mathbf{x},\\boldsymbol{\\sigma}) = \\prod_{i=1}^N \\left\\{ \\frac{1}{\\sqrt{2 \\pi} \\sigma_i} \\exp \\left[-\\frac{(y_i-m_i)^2}{2\\sigma_i^2} \\right] \\right\\},\n",
    "$$\n",
    "where $m_i \\equiv m(x_i,\\boldsymbol{\\theta})$."
   ]
  },
  {
   "cell_type": "markdown",
   "metadata": {
    "slideshow": {
     "slide_type": "fragment"
    }
   },
   "source": [
    "Maximising the log likelihood \n",
    "$$\n",
    "\\log \\mathcal{L} = -0.5 \\left\\{ N\n",
    "\\log 2\\pi + \\sum_{i=1}^N \\log \\sigma_i + \\sum_{i=1}^N \\left[(y_i-m_i)/\\sigma_i\\right]^2 \\right\\}\n",
    "$$"
   ]
  },
  {
   "cell_type": "markdown",
   "metadata": {
    "slideshow": {
     "slide_type": "fragment"
    }
   },
   "source": [
    "is thus equivalent to mimising the ***chi-squared***:\n",
    "$$\n",
    "\\chi^2 = \\sum_i \\left[ \\frac{y_i-m_i}{\\sigma_i} \\right]^2.\n",
    "$$"
   ]
  },
  {
   "cell_type": "markdown",
   "metadata": {
    "slideshow": {
     "slide_type": "slide"
    }
   },
   "source": [
    "## Generalisation to Gaussian Processes\n",
    "\n",
    "A more general expression for the likelihood is the $N$-dimensional ***multi-variate Gaussian***:\n",
    "$$\n",
    "\\mathcal{L} = (2 \\pi)^{-N/2} |\\mathbf{K}|^{-1/2} \\exp \\left[- \\frac{1}{2} (\\mathbf{y}-\\mathbf{m})^{\\rm T} \\mathbf{K}^{-1} (\\mathbf{y}-\\mathbf{m}) \\right]\n",
    "$$\n",
    "where $\\mathbf{K}$ is a $N \\times N$ ***covariance matrix***, with elements $K_{ij}={\\rm cov}(r_i,r_j)$, and $|\\mathbf{K}|$ is the determinant of $\\mathbf{K}$. "
   ]
  },
  {
   "cell_type": "markdown",
   "metadata": {
    "slideshow": {
     "slide_type": "fragment"
    }
   },
   "source": [
    "As a shorthand, we write:\n",
    "$$\n",
    "\\mathcal{L} = \\mathcal{N}(\\mathbf{y}|\\mathbf{m},\\mathbf{K}).\n",
    "$$"
   ]
  },
  {
   "cell_type": "markdown",
   "metadata": {
    "slideshow": {
     "slide_type": "subslide"
    }
   },
   "source": [
    "A ***Gaussian process*** is a ***stochastic process*** (a collection of random variables indexed by inputs such as time or space), such that any finite collection of those random variables has a multivariate Gaussian distribution. "
   ]
  },
  {
   "cell_type": "markdown",
   "metadata": {
    "slideshow": {
     "slide_type": "fragment"
    }
   },
   "source": [
    "White Gaussian noise is a special case of a Gaussian process, where the covariance is purely diagonal:\n",
    "$$\n",
    "K_{ij}= \\left\\{ \\begin{array}{ll} \\sigma_i^2&~{\\rm if}~i=j\\\\\n",
    "0&~{\\rm if}~i \\neq j \\end{array} \\right.\n",
    "$$"
   ]
  },
  {
   "cell_type": "markdown",
   "metadata": {
    "slideshow": {
     "slide_type": "fragment"
    }
   },
   "source": [
    "If the covariance matrix has non-zero off-diagonal values, the noise is ***correlated***."
   ]
  },
  {
   "cell_type": "markdown",
   "metadata": {
    "hideCode": false,
    "hidePrompt": true,
    "slideshow": {
     "slide_type": "slide"
    }
   },
   "source": [
    "## From 1 to 2 to $N$ dimensions\n",
    "\n",
    "Consider a scalar variable $y$, drawn from a univariate Gaussian distribution with mean $\\mu$ and variance $\\sigma^2$:\n",
    "\n",
    "$$\n",
    "p(y) = \\frac{1}{\\sqrt{2 \\pi} \\sigma} \\exp \\left[ - \\frac{(y-\\mu)^2}{2 \\sigma^2} \\right].\n",
    "$$\n",
    "\n",
    "As a short hand, we write: $y \\sim \\mathcal{N}(\\mu,\\sigma^2)$."
   ]
  },
  {
   "cell_type": "code",
   "execution_count": 37,
   "metadata": {
    "hideCode": false,
    "hidePrompt": true,
    "slideshow": {
     "slide_type": "fragment"
    }
   },
   "outputs": [
    {
     "data": {
      "application/vnd.jupyter.widget-view+json": {
       "model_id": "4bb10eb89a744d5fbf91fa1c7be096f4",
       "version_major": 2,
       "version_minor": 0
      },
      "text/plain": [
       "interactive(children=(FloatSlider(value=1.0, description='$\\\\sigma$', max=2.0, min=0.5, step=0.25), Output()),…"
      ]
     },
     "metadata": {},
     "output_type": "display_data"
    }
   ],
   "source": [
    "interact(utils.pltgauss1d,\n",
    "         sig=widgets.FloatSlider(value=1.0,\n",
    "                                 min=0.5,\n",
    "                                 max=2.0,\n",
    "                                 step=0.25,\n",
    "                                 description=r'$\\sigma$',\n",
    "                                 readout_format='.2f'));"
   ]
  },
  {
   "cell_type": "markdown",
   "metadata": {
    "hideCode": false,
    "hidePrompt": false,
    "hide_input": false,
    "slideshow": {
     "slide_type": "subslide"
    }
   },
   "source": [
    "Now let us consider a pair of variables $y_1$ and $y_2$, drawn from a ***bivariate Gaussian*** distribution. The ***joint probability density*** for $y_1$ and $y_2$ is:\n",
    "\n",
    "$$\n",
    "\\left[ \\begin{array}{l} y_1 \\\\ y_2 \\end{array} \\right] \\sim \\mathcal{N} \\left(\n",
    "\\left[ \\begin{array}{l} \\mu_1 \\\\ \\mu_2 \\end{array}  \\right] , \n",
    "\\left[ \\begin{array}{ll} \n",
    "\\sigma_1^2 & C \\\\\n",
    "C & \\sigma_2^2 \n",
    "\\end{array}  \\right] \n",
    "\\right),\n",
    "$$\n",
    "\n",
    "where $C = {\\rm cov}(y_1,y_2)$ is the *covariance* between $y_1$ and $y_2$.\n",
    "The second term on the right hand side is the *covariance matrix*, $K$."
   ]
  },
  {
   "cell_type": "markdown",
   "metadata": {
    "hideCode": false,
    "hidePrompt": false,
    "slideshow": {
     "slide_type": "fragment"
    }
   },
   "source": [
    "We now use two powerful ***identities*** of Gaussian distributions to elucidate the relationship between $y_1$ and $y_2$. "
   ]
  },
  {
   "cell_type": "markdown",
   "metadata": {
    "hideCode": false,
    "hidePrompt": false,
    "slideshow": {
     "slide_type": "subslide"
    }
   },
   "source": [
    "The ***marginal distribution*** of $y_1$ describes what we know about $y_1$ in the absence of any other information about $y_2$, and is simply:\n",
    "\n",
    "$$\n",
    "p(y_1)= \\mathcal{N} (\\mu_1,\\sigma_1^2).\n",
    "$$"
   ]
  },
  {
   "cell_type": "markdown",
   "metadata": {
    "hideCode": false,
    "hidePrompt": false,
    "slideshow": {
     "slide_type": "fragment"
    }
   },
   "source": [
    "If we know the value of $y_2$, the probability density for $y_1$ collapses to the the ***conditional distribution*** of $y_1$ ***given*** $y_2$:\n",
    "\n",
    "$$\n",
    "p(y_1 \\mid y_2) = \\mathcal{N} \\left( \\mu_1 + C (y_2-\\mu_2)/\\sigma_2^2, \\sigma_1^2-C^2\\sigma_2^2 \\right).\n",
    "$$"
   ]
  },
  {
   "cell_type": "markdown",
   "metadata": {
    "hideCode": false,
    "hidePrompt": false,
    "slideshow": {
     "slide_type": "fragment"
    }
   },
   "source": [
    "If $K$ is diagonal, i.e. if $C=0$, $p(y_1 \\mid y_2) = p(y_1)$. Measuring $y_2$ doesn't teach us anything about $y_1$. The two variables are ***uncorrelated***. "
   ]
  },
  {
   "cell_type": "markdown",
   "metadata": {
    "hideCode": false,
    "hidePrompt": false,
    "hide_input": true,
    "slideshow": {
     "slide_type": "fragment"
    }
   },
   "source": [
    "If the variables are ***correlated*** ($C \\neq 0$), measuring $y_2$ does alter our knowledge of $y_1$: it modifies the mean and reduces the variance."
   ]
  },
  {
   "cell_type": "code",
   "execution_count": 5,
   "metadata": {
    "slideshow": {
     "slide_type": "subslide"
    }
   },
   "outputs": [
    {
     "data": {
      "application/vnd.jupyter.widget-view+json": {
       "model_id": "",
       "version_major": 2,
       "version_minor": 0
      },
      "text/plain": [
       "interactive(children=(FloatSlider(value=0.0, description='$\\\\rho$', max=0.8, min=-0.8, step=0.4), Checkbox(val…"
      ]
     },
     "metadata": {},
     "output_type": "display_data"
    }
   ],
   "source": [
    "interact(utils.pltgauss2d, \n",
    "         rho=widgets.FloatSlider(min=-0.8,max=0.8,step=0.4,description=r'$\\rho$',value=0),\n",
    "         show_cond=widgets.Checkbox(value=True,description='show conditional distribution'));"
   ]
  },
  {
   "cell_type": "markdown",
   "metadata": {
    "hideCode": false,
    "hidePrompt": false,
    "slideshow": {
     "slide_type": "subslide"
    }
   },
   "source": [
    "Let us plot $y_1$ and $y_2$ next to each other, as we normally would if they formed part of a ***time-series***. "
   ]
  },
  {
   "cell_type": "code",
   "execution_count": 36,
   "metadata": {
    "hideCode": false,
    "hidePrompt": false,
    "hide_input": false,
    "slideshow": {
     "slide_type": "subslide"
    }
   },
   "outputs": [
    {
     "data": {
      "image/png": "[encoded data removed]",
      "text/plain": [
       "<Figure size 1080x504 with 2 Axes>"
      ]
     },
     "metadata": {
      "needs_background": "light"
     },
     "output_type": "display_data"
    }
   ],
   "source": [
    "par = [1,0.01] # A, Gamma\n",
    "pl.figure(figsize=(15,7))\n",
    "ax1 = pl.subplot(121)\n",
    "xobs = np.array([])\n",
    "yobs = np.array([])\n",
    "eobs = np.array([])\n",
    "xtest = np.array([-1,1])\n",
    "utils.Plot_Pred_GP(utils.SEKernel,par,xobs,yobs,eobs,xtest)\n",
    "xobs = np.array([-1])\n",
    "yobs = np.array([0.8])\n",
    "eobs = 0.1\n",
    "xtest = np.array([1])\n",
    "pl.subplot(122,sharex=ax1,sharey=ax1)\n",
    "utils.Plot_Pred_GP(utils.SEKernel,par,xobs,yobs,eobs,xtest)\n",
    "pl.xlim(-1.5,1.5)\n",
    "pl.ylim(-1.2,1.2);"
   ]
  },
  {
   "cell_type": "markdown",
   "metadata": {
    "hide_input": true,
    "slideshow": {
     "slide_type": "subslide"
    }
   },
   "source": [
    "Now consider $N$ variables drawn from a ***multivariate Gaussian*** distribution:\n",
    "$$\n",
    "\\boldsymbol{y} \\sim \\mathcal{N} (\\boldsymbol{m},K)\n",
    "$$\n",
    "with ***mean vector*** $m$ and ***covariance matrix*** $K$."
   ]
  },
  {
   "cell_type": "markdown",
   "metadata": {
    "hideCode": false,
    "hidePrompt": false,
    "slideshow": {
     "slide_type": "fragment"
    }
   },
   "source": [
    "A ***Gaussian process*** is an extension of this concept to infinite $N$, giving rise to a ***probability distribution over functions***. "
   ]
  },
  {
   "cell_type": "markdown",
   "metadata": {
    "hideCode": false,
    "hidePrompt": false,
    "slideshow": {
     "slide_type": "fragment"
    }
   },
   "source": [
    "This last generalisation may not be obvious conceptually, but in practice only ever deal with finite samples."
   ]
  },
  {
   "cell_type": "code",
   "execution_count": 34,
   "metadata": {
    "hideCode": false,
    "hidePrompt": false,
    "hide_input": false,
    "slideshow": {
     "slide_type": "subslide"
    }
   },
   "outputs": [
    {
     "data": {
      "image/png": "[encoded data removed]",
      "text/plain": [
       "<Figure size 1080x504 with 2 Axes>"
      ]
     },
     "metadata": {
      "needs_background": "light"
     },
     "output_type": "display_data"
    }
   ],
   "source": [
    "par = [1,0.1] # A, Gamma\n",
    "pl.figure(figsize=(15,7))\n",
    "ax1 = pl.subplot(121)\n",
    "xobs = np.array([-1,1,3])\n",
    "yobs = np.array([0.8,-0.7,0])\n",
    "eobs = np.array([0.1,0.1,0.1])\n",
    "xtest = np.array([-8,-6,-4,-2,0,2,4,6,8])\n",
    "utils.Plot_Pred_GP(utils.SEKernel,par,xobs,yobs,eobs,xtest)\n",
    "pl.subplot(122,sharex=ax1,sharey=ax1)\n",
    "xtest = np.linspace(-10,10,500)\n",
    "utils.Plot_Pred_GP(utils.SEKernel,par,xobs,yobs,eobs,xtest);\n",
    "pl.xlim(-10,10)\n",
    "pl.ylim(-2,2.5);"
   ]
  },
  {
   "cell_type": "markdown",
   "metadata": {
    "hideCode": false,
    "hidePrompt": false,
    "slideshow": {
     "slide_type": "slide"
    }
   },
   "source": [
    "## Gaussian Process regression\n",
    "\n",
    "In general, we do not know the covariance matrix *a priori*."
   ]
  },
  {
   "cell_type": "markdown",
   "metadata": {
    "hideCode": false,
    "hidePrompt": false,
    "slideshow": {
     "slide_type": "fragment"
    }
   },
   "source": [
    "Instead, we define a ***covariance function*** $k$ such that:\n",
    "$$\n",
    "K_{ij} = k(x_i,x_j,\\boldsymbol{\\phi}).\n",
    "$$\n",
    "and ***learn*** its parameters $\\boldsymbol{\\phi}$ from the data (we can also compare different covariance functions)."
   ]
  },
  {
   "cell_type": "markdown",
   "metadata": {
    "hideCode": false,
    "hidePrompt": false,
    "slideshow": {
     "slide_type": "fragment"
    }
   },
   "source": [
    "We then write the Gaussian process as\n",
    "$$\n",
    "y(x) \\sim \\mathcal{GP}(m(x), k(x,x'))\n",
    "$$"
   ]
  },
  {
   "cell_type": "markdown",
   "metadata": {
    "hideCode": false,
    "hidePrompt": false,
    "slideshow": {
     "slide_type": "subslide"
    }
   },
   "source": [
    "There are many types of covariance function; the only requirement is that the covariance matrix should be ***symmmetric*** ($K_{ij}=K_{ji}$ and ***positive semi-definite*** ($|\\mathbf{K}| \\geq 0$)."
   ]
  },
  {
   "cell_type": "markdown",
   "metadata": {
    "hideCode": false,
    "hidePrompt": false,
    "slideshow": {
     "slide_type": "fragment"
    }
   },
   "source": [
    "A very common covariance function is the squared exponential, or radial basis function (RBF) kernel\n",
    "$$\n",
    "K_{ij}=k(x_i,x_j,\\boldsymbol{\\phi})=A \\exp\\left[ - \\Gamma (x_i-x_j)^2\\right],\n",
    "$$\n",
    "which has 2 parameters: $\\boldsymbol{\\phi}=(A,\\Gamma)$."
   ]
  },
  {
   "cell_type": "markdown",
   "metadata": {
    "hideCode": false,
    "hidePrompt": false,
    "slideshow": {
     "slide_type": "fragment"
    }
   },
   "source": [
    "Here we are implicitly assuming the inputs $x$ are one-dimensional, e.g. $x$ might represent time. However, the input space can have more than one dimension. We will see an example of a GP with multi-dimensional inputs later."
   ]
  },
  {
   "cell_type": "markdown",
   "metadata": {
    "hideCode": false,
    "hidePrompt": false,
    "slideshow": {
     "slide_type": "subslide"
    }
   },
   "source": [
    "## Test and training sets\n",
    "\n",
    "Suppose we have an (observed) ***training set*** $(\\mathbf{x},\\mathbf{y})$. \n",
    "We are interested in some other ***test set*** of inputs $\\mathbf{x}_*$."
   ]
  },
  {
   "cell_type": "markdown",
   "metadata": {
    "hideCode": false,
    "hidePrompt": false,
    "slideshow": {
     "slide_type": "fragment"
    }
   },
   "source": [
    "The joint distribution over the training and test sets is\n",
    "\n",
    "$$\n",
    "\\mathrm{p} \\left( \\left[ \\begin{array}{l} \\mathbf{y} \\\\ \\mathbf{y}_* \\end{array} \\right] \\right) \n",
    "= \\mathcal{N} \\left( \\left[ \\begin{array}{l} \\mathbf{m} \\\\ \\mathbf{m}_* \\end{array} \\right], \n",
    "\\left[ \\begin{array}{ll} \\mathbf{K} & \\mathbf{K}_* \\\\ \\mathbf{K}_*^{\\rm T} & \\mathbf{K}_{**} \\end{array} \\right] \\right),\n",
    "$$\n",
    "\n",
    "where $\\mathbf{m}_* = m(\\mathbf{x}_*,\\boldsymbol{\\theta})$, $K_{**,ij} = k(x_{*,i},x_{*,j},\\boldsymbol{\\phi})$ and $K_{*,ij} = k(x_i,x_{*,j},\\boldsymbol{\\phi})$. "
   ]
  },
  {
   "cell_type": "markdown",
   "metadata": {
    "hideCode": false,
    "hidePrompt": false,
    "slideshow": {
     "slide_type": "fragment"
    }
   },
   "source": [
    "To keep equations uncluttered, from now on we will omit $\\boldsymbol{\\theta}$ and $\\boldsymbol{\\phi}$, except where explicitly needed."
   ]
  },
  {
   "cell_type": "markdown",
   "metadata": {
    "hideCode": false,
    "hidePrompt": false,
    "slideshow": {
     "slide_type": "fragment"
    }
   },
   "source": [
    "For simplicity, we assume initially that the mean function is zero everywhere: $\\mathbf{m}=\\mathbf{0}$. We will consider to non-trivial mean functions later. "
   ]
  },
  {
   "cell_type": "markdown",
   "metadata": {
    "hideCode": false,
    "hidePrompt": false,
    "slideshow": {
     "slide_type": "subslide"
    }
   },
   "source": [
    "## The conditional distribution\n",
    "\n",
    "The ***conditional distribution*** for the test set given the training set is:\n",
    "$$ \n",
    "\\mathrm{p} ( \\mathbf{y}_* \\mid \\mathbf{x},\\mathbf{y},k,\\boldsymbol{\\phi},\\mathbf{x}_*) = \\mathcal{N} ( \n",
    "\\mathbf{K}_*^{\\rm T} \\, \\mathbf{K}^{-1} \\, \\mathbf{y}, \\mathbf{K}_{**} - \\mathbf{K}_*^{\\rm T} \\, \\mathbf{K}^{-1} \\, \\mathbf{K}_* ).\n",
    "$$"
   ]
  },
  {
   "cell_type": "markdown",
   "metadata": {
    "hideCode": false,
    "hidePrompt": false,
    "slideshow": {
     "slide_type": "fragment"
    }
   },
   "source": [
    "This is also known as the ***predictive distribution***, because it can be use to predict future (or past) observations. \n",
    "\n",
    "More generally, it can be used for ***interpolating*** the observations to any desired set of inputs. \n",
    "\n",
    "This is one of the most widespread applications of GPs in some fields (e.g. kriging in geology, economic forecasting, ...)"
   ]
  },
  {
   "cell_type": "markdown",
   "metadata": {
    "hideCode": false,
    "hidePrompt": false,
    "slideshow": {
     "slide_type": "subslide"
    }
   },
   "source": [
    "### Adding white noise\n",
    "\n",
    "Real observations always contain a component of ***white noise***, which we need to account for, but don't necessarily want to include in the predictions. "
   ]
  },
  {
   "cell_type": "markdown",
   "metadata": {
    "hideCode": false,
    "hidePrompt": false,
    "slideshow": {
     "slide_type": "fragment"
    }
   },
   "source": [
    "If the white noise variance $\\sigma^2$ is constant, we simply add a constant term to the covariance matrix of the training set:\n",
    "$$ \n",
    "\\mathrm{p} ( \\mathbf{y}_* \\mid \\mathbf{x},\\mathbf{y},k,\\boldsymbol{\\phi},\\mathbf{x}_*) = \\mathcal{N} \\left( \n",
    "\\mathbf{K}_*^{\\rm T} \\, (\\mathbf{K}+\\sigma^2 \\mathbb{I})^{-1} \\, \\mathbf{y}, \\mathbf{K}_{**} - \\mathbf{K}_*^{\\rm T} \\, (\\mathbf{K} + \\sigma^2 \\mathbb{I})^{-1} \\, \\mathbf{K}_* \\right).\n",
    "$$\n",
    "where $\\mathbb{I}$ is the identity matrix."
   ]
  },
  {
   "cell_type": "markdown",
   "metadata": {
    "slideshow": {
     "slide_type": "fragment"
    }
   },
   "source": [
    "It's trivial to allow for different $\\sigma$ for each data point."
   ]
  },
  {
   "cell_type": "markdown",
   "metadata": {
    "hideCode": false,
    "hidePrompt": false,
    "slideshow": {
     "slide_type": "subslide"
    }
   },
   "source": [
    "## Single-point prediction\n",
    "\n",
    "Let us look more closely at the predictive distribution for a single test point $x_*$."
   ]
  },
  {
   "cell_type": "markdown",
   "metadata": {
    "hideCode": false,
    "hidePrompt": false,
    "slideshow": {
     "slide_type": "fragment"
    }
   },
   "source": [
    "It is a Gaussian with mean and variance\n",
    "$$\n",
    "\\begin{array}{lll}\n",
    "\\mathbb{E}[y_*] \\equiv \\overline{y_*} & = & \\mathbf{k}_*^{\\rm T} \\, (\\mathbf{K} + \\sigma^2 \\mathbb{I})^{-1} \\, \\mathbf{y}, \\\\\n",
    "\\mathbb{V}[y_*] & = & k(x_*,x_*,\\boldsymbol{\\phi}) - \\mathbf{k}_*^{\\rm T} \\, (\\mathbf{K} + \\sigma^2 \\mathbb{I})^{-1} \\, \\mathbf{k}_*,\n",
    "\\end{array}\n",
    "$$\n",
    "where $\\mathbf{k}_*$ is the vector of covariances between the test point and the training points, such that $k_{*,i}=k(x_i,x_*)$."
   ]
  },
  {
   "cell_type": "markdown",
   "metadata": {
    "slideshow": {
     "slide_type": "fragment"
    }
   },
   "source": [
    "This is a generalisation of the bivariate expression we saw earlier."
   ]
  },
  {
   "cell_type": "markdown",
   "metadata": {
    "hideCode": false,
    "hidePrompt": false,
    "slideshow": {
     "slide_type": "subslide"
    }
   },
   "source": [
    "Notice the mean is a linear combination of the observations: the GP is a ***linear predictor***."
   ]
  },
  {
   "cell_type": "markdown",
   "metadata": {
    "hideCode": false,
    "hidePrompt": false,
    "slideshow": {
     "slide_type": "fragment"
    }
   },
   "source": [
    "It is also a linear combination of covariance functions, each centred on a training point:\n",
    "$$\n",
    "\\overline{y_*} = \\sum_{i=1}^N \\alpha_i k(x_i,x_*,\\boldsymbol{\\phi}),\n",
    "$$\n",
    "where $\\alpha_i = (\\mathbf{K} + \\sigma^2 \\mathbb{I})^{-1} \\, y_i$."
   ]
  },
  {
   "cell_type": "markdown",
   "metadata": {
    "slideshow": {
     "slide_type": "subslide"
    }
   },
   "source": [
    "## The likelihood\n",
    "\n",
    "The ***likelihood*** of the data under the GP model is simply:\n",
    "$$\n",
    "\\mathrm{p}(\\mathbf{y} \\mid \\mathbf{x},k,\\boldsymbol{\\phi}) = \\mathcal{N}(\\mathbf{y} \\mid \\mathbf{0},\\mathbf{K} + \\sigma^2 \\mathbb{I}).\n",
    "$$\n",
    "\n",
    "This is a measure of how well the model explains, or predicts, the training set."
   ]
  },
  {
   "cell_type": "markdown",
   "metadata": {
    "slideshow": {
     "slide_type": "fragment"
    }
   },
   "source": [
    "In some textbooks this is referred to as the ***marginal likelihood***. \n",
    "\n",
    "This arises if one considers the observed $\\mathbf{y}$ as noisy realisations of a latent (unobserved) Gaussian process $f$."
   ]
  },
  {
   "cell_type": "markdown",
   "metadata": {
    "slideshow": {
     "slide_type": "subslide"
    }
   },
   "source": [
    "The term ***marginal*** refers to marginalisation over the function values $\\boldsymbol{f}$:\n",
    "$$\n",
    "\\mathrm{p}(\\mathbf{y} \\mid \\mathbf{x}) = \\int \\mathrm{p}(\\mathbf{y} \\mid \\mathbf{f},\\mathbf{x}) \\, \\mathrm{p}(\\mathbf{f} \\mid \\mathbf{x}) \\, \\mathrm{d} \\mathbf{f},\n",
    "$$\n",
    "where $\\mathbf{f} \\equiv f(\\mathbf{x})$, and\n",
    "$$\n",
    "\\mathrm{p}(\\mathbf{f} \\mid \\mathbf{x}) = \\mathcal{N}(\\mathbf{f} \\mid \\mathbf{0},K)\n",
    "$$\n",
    "is the ***prior***, and \n",
    "$$\n",
    "\\mathrm{p}(\\mathbf{y} \\mid \\mathbf{f},\\mathbf{x}) = \\mathcal{N}(\\mathbf{y} \\mid \\mathbf{0},\\sigma^2 \\mathbb{I})\n",
    "$$\n",
    "is the ***likelihood***."
   ]
  },
  {
   "cell_type": "markdown",
   "metadata": {
    "slideshow": {
     "slide_type": "subslide"
    }
   },
   "source": [
    "## Parameters and hyper-parameters \n",
    "\n",
    "The parameters of the covariance and mean function as known as the ***hyper-parameters*** of the GP. "
   ]
  },
  {
   "cell_type": "markdown",
   "metadata": {
    "slideshow": {
     "slide_type": "fragment"
    }
   },
   "source": [
    "This is because the actual ***parameters*** of the model are the function values, $\\mathbf{f}$, but we never explicitly deal with them: they are always marginalised over."
   ]
  },
  {
   "cell_type": "markdown",
   "metadata": {
    "slideshow": {
     "slide_type": "slide"
    }
   },
   "source": [
    "## *Conditioning* the GP...\n",
    "\n",
    "...means evaluating the conditional (or predictive) distribution for a given covariance matrix (i.e. covariance function and hyper-parameters), and training set."
   ]
  },
  {
   "cell_type": "markdown",
   "metadata": {
    "slideshow": {
     "slide_type": "fragment"
    }
   },
   "source": [
    "## *Training* the GP...\n",
    "\n",
    "...means maximising the *likelihood* of the model with respect to the hyper-parameters."
   ]
  },
  {
   "cell_type": "markdown",
   "metadata": {
    "slideshow": {
     "slide_type": "slide"
    }
   },
   "source": [
    "## The kernel trick\n",
    "\n",
    "Consider a linear basis model with arbitrarily many ***basis functions***, or ***features***, $\\boldsymbol{\\Phi}(x)=(\\Phi_1(x),\\Phi_2(x),\\ldots,\\Phi_M(x))$, where $M$ is the number of basis functions, and a Gaussian prior with covariance matrix $\\boldsymbol{\\Sigma}$ over the basis function weights. "
   ]
  },
  {
   "cell_type": "markdown",
   "metadata": {
    "slideshow": {
     "slide_type": "fragment"
    }
   },
   "source": [
    "One ends up with exactly the same expressions for the predictive distribution and the likelihood as in the GP case, so long as:\n",
    "$$\n",
    "k(x,x') = \\boldsymbol{\\Phi}^{\\rm T}(x) \\, \\boldsymbol{\\Sigma} \\, \\boldsymbol{\\Phi}(x'),\n",
    "$$\n",
    "or, writing $\\boldsymbol{\\Psi}(x) = \\boldsymbol{\\Sigma}^{1/2} \\, \\boldsymbol{\\Phi}(x)$,\n",
    "$$\n",
    "k(x,x') = \\boldsymbol{\\Psi}(x) \\cdot \\boldsymbol{\\Psi}(x'),\n",
    "$$"
   ]
  },
  {
   "cell_type": "markdown",
   "metadata": {
    "hideCode": false,
    "hidePrompt": false,
    "slideshow": {
     "slide_type": "fragment"
    }
   },
   "source": [
    "Thus the covariance function $k$ enables us to go from a (finite) ***input space*** to a (potentially infinite) ***feature space***. This is known as the ***kernel trick*** and the covariance function is often referred to as the ***kernel***."
   ]
  },
  {
   "cell_type": "markdown",
   "metadata": {
    "slideshow": {
     "slide_type": "slide"
    }
   },
   "source": [
    "## Non-zero mean functions\n",
    "\n",
    "In general (and in astronomy applications in particular) we often want to use non-trivial mean functions.\n",
    "\n",
    "To do this simply replace $\\mathbf{y}$ by $\\mathbf{r}=\\mathbf{y}-\\mathbf{m}$ in the expressions for predictive distribution and likelihood."
   ]
  },
  {
   "cell_type": "markdown",
   "metadata": {
    "slideshow": {
     "slide_type": "fragment"
    }
   },
   "source": [
    "The mean function represents the ***deterministic*** component of the model\n",
    "- e.g.: a linear trend, a Keplerian orbit, a planetary transit, ..."
   ]
  },
  {
   "cell_type": "markdown",
   "metadata": {
    "hideCode": false,
    "hidePrompt": false,
    "slideshow": {
     "slide_type": "fragment"
    }
   },
   "source": [
    "The covariance function encodes the ***stochastic*** component. \n",
    "- e.g.: instrumental noise, stellar variability"
   ]
  },
  {
   "cell_type": "markdown",
   "metadata": {},
   "source": [
    "# Tutorial 1\n",
    "\n",
    "- write your own (simple) GP code with Squared Exponential covariance function\n",
    "- vary / fit for the hyper-parameters\n",
    "- (sample the posterior?)"
   ]
  }
 ],
 "metadata": {
  "anaconda-cloud": {},
  "celltoolbar": "Slideshow",
  "hide_code_all_hidden": false,
  "kernelspec": {
   "display_name": "Python 3",
   "language": "python",
   "name": "python3"
  },
  "language_info": {
   "codemirror_mode": {
    "name": "ipython",
    "version": 3
   },
   "file_extension": ".py",
   "mimetype": "text/x-python",
   "name": "python",
   "nbconvert_exporter": "python",
   "pygments_lexer": "ipython3",
   "version": "3.7.3"
  },
  "nbpresent": {
   "slides": {},
   "themes": {
    "default": "a86bdae1-f5f8-41c8-8d03-33324866d981",
    "theme": {
     "72cad74a-f4c5-4868-a59f-a1b18bef32b2": {
      "backgrounds": {
       "backgroundColor": {
        "background-color": "backgroundColor",
        "id": "backgroundColor"
       }
      },
      "id": "72cad74a-f4c5-4868-a59f-a1b18bef32b2",
      "palette": {
       "backgroundColor": {
        "id": "backgroundColor",
        "rgb": [
         0,
         43,
         54
        ]
       },
       "headingColor": {
        "id": "headingColor",
        "rgb": [
         238,
         232,
         213
        ]
       },
       "linkColor": {
        "id": "linkColor",
        "rgb": [
         38,
         139,
         210
        ]
       },
       "mainColor": {
        "id": "mainColor",
        "rgb": [
         147,
         161,
         161
        ]
       }
      },
      "rules": {
       "a": {
        "color": "linkColor"
       },
       "h1": {
        "color": "headingColor",
        "font-family": "Oswald",
        "font-size": 7
       },
       "h2": {
        "color": "headingColor",
        "font-family": "Oswald",
        "font-size": 5
       },
       "h3": {
        "color": "headingColor",
        "font-family": "Oswald",
        "font-size": 3.75
       },
       "h4": {
        "color": "headingColor",
        "font-family": "Oswald",
        "font-size": 3
       },
       "h5": {
        "color": "headingColor",
        "font-family": "Oswald"
       },
       "h6": {
        "color": "headingColor",
        "font-family": "Oswald"
       },
       "h7": {
        "color": "headingColor",
        "font-family": "Oswald"
       },
       "li": {
        "color": "mainColor",
        "font-family": "Lato",
        "font-size": 5
       },
       "p": {
        "color": "mainColor",
        "font-family": "Lato",
        "font-size": 5
       }
      },
      "text-base": {
       "color": "mainColor",
       "font-family": "Lato",
       "font-size": 5
      }
     },
     "a86bdae1-f5f8-41c8-8d03-33324866d981": {
      "backgrounds": {
       "backgroundColor": {
        "background-color": "backgroundColor",
        "id": "backgroundColor"
       }
      },
      "id": "a86bdae1-f5f8-41c8-8d03-33324866d981",
      "palette": {
       "backgroundColor": {
        "id": "backgroundColor",
        "rgb": [
         247,
         251,
         252
        ]
       },
       "headingColor": {
        "id": "headingColor",
        "rgb": [
         51,
         51,
         51
        ]
       },
       "linkColor": {
        "id": "linkColor",
        "rgb": [
         59,
         117,
         158
        ]
       },
       "mainColor": {
        "id": "mainColor",
        "rgb": [
         51,
         51,
         51
        ]
       }
      },
      "rules": {
       "a": {
        "color": "linkColor"
       },
       "h1": {
        "color": "headingColor",
        "font-family": "Quicksand",
        "font-size": 7
       },
       "h2": {
        "color": "headingColor",
        "font-family": "Quicksand",
        "font-size": 5
       },
       "h3": {
        "color": "headingColor",
        "font-family": "Quicksand",
        "font-size": 3.75
       },
       "h4": {
        "color": "headingColor",
        "font-family": "Quicksand",
        "font-size": 3
       },
       "h5": {
        "color": "headingColor",
        "font-family": "Quicksand"
       },
       "h6": {
        "color": "headingColor",
        "font-family": "Quicksand"
       },
       "h7": {
        "color": "headingColor",
        "font-family": "Quicksand"
       },
       "li": {
        "color": "mainColor",
        "font-family": "Open Sans",
        "font-size": 5
       },
       "p": {
        "color": "mainColor",
        "font-family": "Open Sans",
        "font-size": 5
       }
      },
      "text-base": {
       "color": "mainColor",
       "font-family": "Open Sans",
       "font-size": 5
      }
     }
    }
   }
  }
 },
 "nbformat": 4,
 "nbformat_minor": 1
}
